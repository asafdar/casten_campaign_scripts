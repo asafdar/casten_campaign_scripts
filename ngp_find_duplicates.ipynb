{
 "cells": [
  {
   "cell_type": "code",
   "execution_count": 1,
   "metadata": {},
   "outputs": [],
   "source": [
    "import pandas as pd"
   ]
  },
  {
   "cell_type": "code",
   "execution_count": 2,
   "metadata": {},
   "outputs": [
    {
     "data": {
      "text/html": [
       "<div>\n",
       "<style scoped>\n",
       "    .dataframe tbody tr th:only-of-type {\n",
       "        vertical-align: middle;\n",
       "    }\n",
       "\n",
       "    .dataframe tbody tr th {\n",
       "        vertical-align: top;\n",
       "    }\n",
       "\n",
       "    .dataframe thead th {\n",
       "        text-align: right;\n",
       "    }\n",
       "</style>\n",
       "<table border=\"1\" class=\"dataframe\">\n",
       "  <thead>\n",
       "    <tr style=\"text-align: right;\">\n",
       "      <th></th>\n",
       "      <th>VANID</th>\n",
       "      <th>Last</th>\n",
       "      <th>First</th>\n",
       "      <th>Mid</th>\n",
       "      <th>Suf</th>\n",
       "      <th>Home Phone</th>\n",
       "      <th>Address</th>\n",
       "      <th>City</th>\n",
       "      <th>State/Province</th>\n",
       "      <th>Zip/Postal</th>\n",
       "      <th>Zip4</th>\n",
       "      <th>CountryCode</th>\n",
       "      <th>PersonalEmail</th>\n",
       "      <th>PreferredEmail</th>\n",
       "    </tr>\n",
       "  </thead>\n",
       "  <tbody>\n",
       "    <tr>\n",
       "      <th>0</th>\n",
       "      <td>113415339</td>\n",
       "      <td>Kimbell</td>\n",
       "      <td>Dave</td>\n",
       "      <td>NaN</td>\n",
       "      <td>NaN</td>\n",
       "      <td>NaN</td>\n",
       "      <td>2623 Lincoln St</td>\n",
       "      <td>Evanston</td>\n",
       "      <td>IL</td>\n",
       "      <td>60201</td>\n",
       "      <td>2138.0</td>\n",
       "      <td>US</td>\n",
       "      <td>dckimbell@gmail.com</td>\n",
       "      <td>dckimbell@gmail.com</td>\n",
       "    </tr>\n",
       "    <tr>\n",
       "      <th>1</th>\n",
       "      <td>112441070</td>\n",
       "      <td>Calkins</td>\n",
       "      <td>Peggy</td>\n",
       "      <td>NaN</td>\n",
       "      <td>NaN</td>\n",
       "      <td>7.078244e+09</td>\n",
       "      <td>6134 Vine Hill School Rd</td>\n",
       "      <td>Sebastopol</td>\n",
       "      <td>CA</td>\n",
       "      <td>95472</td>\n",
       "      <td>2029.0</td>\n",
       "      <td>US</td>\n",
       "      <td>glenncalkins@gmail.com</td>\n",
       "      <td>glenncalkins@gmail.com</td>\n",
       "    </tr>\n",
       "    <tr>\n",
       "      <th>2</th>\n",
       "      <td>111904224</td>\n",
       "      <td>Lara</td>\n",
       "      <td>Jessica</td>\n",
       "      <td>NaN</td>\n",
       "      <td>NaN</td>\n",
       "      <td>NaN</td>\n",
       "      <td>NaN</td>\n",
       "      <td>Washington</td>\n",
       "      <td>DC</td>\n",
       "      <td>20001</td>\n",
       "      <td>NaN</td>\n",
       "      <td>US</td>\n",
       "      <td>jessica@blueprintinteractive.com</td>\n",
       "      <td>jessica@blueprintinteractive.com</td>\n",
       "    </tr>\n",
       "    <tr>\n",
       "      <th>3</th>\n",
       "      <td>112510075</td>\n",
       "      <td>Gebhardt</td>\n",
       "      <td>Richard</td>\n",
       "      <td>NaN</td>\n",
       "      <td>NaN</td>\n",
       "      <td>NaN</td>\n",
       "      <td>1601 E Main Cross St</td>\n",
       "      <td>Findlay</td>\n",
       "      <td>OH</td>\n",
       "      <td>45840</td>\n",
       "      <td>7023.0</td>\n",
       "      <td>US</td>\n",
       "      <td>bgebhardtr@gmail.com</td>\n",
       "      <td>bgebhardtr@gmail.com</td>\n",
       "    </tr>\n",
       "    <tr>\n",
       "      <th>4</th>\n",
       "      <td>103454961</td>\n",
       "      <td>Dixon</td>\n",
       "      <td>Lance</td>\n",
       "      <td>NaN</td>\n",
       "      <td>NaN</td>\n",
       "      <td>NaN</td>\n",
       "      <td>NaN</td>\n",
       "      <td>Menlo Park</td>\n",
       "      <td>CA</td>\n",
       "      <td>94025</td>\n",
       "      <td>NaN</td>\n",
       "      <td>US</td>\n",
       "      <td>NaN</td>\n",
       "      <td>lance@SLAC.Stanford.EDU</td>\n",
       "    </tr>\n",
       "  </tbody>\n",
       "</table>\n",
       "</div>"
      ],
      "text/plain": [
       "       VANID      Last    First  Mid  Suf    Home Phone  \\\n",
       "0  113415339   Kimbell     Dave  NaN  NaN           NaN   \n",
       "1  112441070   Calkins    Peggy  NaN  NaN  7.078244e+09   \n",
       "2  111904224      Lara  Jessica  NaN  NaN           NaN   \n",
       "3  112510075  Gebhardt  Richard  NaN  NaN           NaN   \n",
       "4  103454961     Dixon    Lance  NaN  NaN           NaN   \n",
       "\n",
       "                     Address        City State/Province Zip/Postal    Zip4  \\\n",
       "0           2623 Lincoln St     Evanston             IL      60201  2138.0   \n",
       "1  6134 Vine Hill School Rd   Sebastopol             CA      95472  2029.0   \n",
       "2                        NaN  Washington             DC      20001     NaN   \n",
       "3      1601 E Main Cross St      Findlay             OH      45840  7023.0   \n",
       "4                        NaN  Menlo Park             CA      94025     NaN   \n",
       "\n",
       "  CountryCode                     PersonalEmail  \\\n",
       "0          US               dckimbell@gmail.com   \n",
       "1          US            glenncalkins@gmail.com   \n",
       "2          US  jessica@blueprintinteractive.com   \n",
       "3          US              bgebhardtr@gmail.com   \n",
       "4          US                               NaN   \n",
       "\n",
       "                     PreferredEmail  \n",
       "0               dckimbell@gmail.com  \n",
       "1            glenncalkins@gmail.com  \n",
       "2  jessica@blueprintinteractive.com  \n",
       "3              bgebhardtr@gmail.com  \n",
       "4           lance@SLAC.Stanford.EDU  "
      ]
     },
     "execution_count": 2,
     "metadata": {},
     "output_type": "execute_result"
    }
   ],
   "source": [
    "df = pd.read_excel (r'new_list.xlsx')\n",
    "df.head()"
   ]
  },
  {
   "cell_type": "code",
   "execution_count": 3,
   "metadata": {
    "scrolled": true
   },
   "outputs": [
    {
     "data": {
      "text/plain": [
       "(186781, 14)"
      ]
     },
     "execution_count": 3,
     "metadata": {},
     "output_type": "execute_result"
    }
   ],
   "source": [
    "df.shape"
   ]
  },
  {
   "cell_type": "code",
   "execution_count": 4,
   "metadata": {},
   "outputs": [],
   "source": [
    "df.rename(columns = {'PreferredEmail ':'PreferredEmail'}, inplace = True) "
   ]
  },
  {
   "cell_type": "code",
   "execution_count": 5,
   "metadata": {},
   "outputs": [],
   "source": [
    "df['PreferredEmail'] = df['PreferredEmail'].astype(str)"
   ]
  },
  {
   "cell_type": "code",
   "execution_count": 6,
   "metadata": {},
   "outputs": [],
   "source": [
    "df = df[df.PreferredEmail != 'nan']"
   ]
  },
  {
   "cell_type": "code",
   "execution_count": 7,
   "metadata": {},
   "outputs": [
    {
     "data": {
      "text/plain": [
       "(96577, 14)"
      ]
     },
     "execution_count": 7,
     "metadata": {},
     "output_type": "execute_result"
    }
   ],
   "source": [
    "df.shape"
   ]
  },
  {
   "cell_type": "code",
   "execution_count": 8,
   "metadata": {},
   "outputs": [],
   "source": [
    "df = df[df.duplicated(['PreferredEmail'], keep='first')]"
   ]
  },
  {
   "cell_type": "code",
   "execution_count": 9,
   "metadata": {},
   "outputs": [
    {
     "data": {
      "text/plain": [
       "(2637, 14)"
      ]
     },
     "execution_count": 9,
     "metadata": {},
     "output_type": "execute_result"
    }
   ],
   "source": [
    "df.shape"
   ]
  },
  {
   "cell_type": "code",
   "execution_count": 10,
   "metadata": {},
   "outputs": [
    {
     "data": {
      "text/html": [
       "<div>\n",
       "<style scoped>\n",
       "    .dataframe tbody tr th:only-of-type {\n",
       "        vertical-align: middle;\n",
       "    }\n",
       "\n",
       "    .dataframe tbody tr th {\n",
       "        vertical-align: top;\n",
       "    }\n",
       "\n",
       "    .dataframe thead th {\n",
       "        text-align: right;\n",
       "    }\n",
       "</style>\n",
       "<table border=\"1\" class=\"dataframe\">\n",
       "  <thead>\n",
       "    <tr style=\"text-align: right;\">\n",
       "      <th></th>\n",
       "      <th>VANID</th>\n",
       "      <th>Last</th>\n",
       "      <th>First</th>\n",
       "      <th>Mid</th>\n",
       "      <th>Suf</th>\n",
       "      <th>Home Phone</th>\n",
       "      <th>Address</th>\n",
       "      <th>City</th>\n",
       "      <th>State/Province</th>\n",
       "      <th>Zip/Postal</th>\n",
       "      <th>Zip4</th>\n",
       "      <th>CountryCode</th>\n",
       "      <th>PersonalEmail</th>\n",
       "      <th>PreferredEmail</th>\n",
       "    </tr>\n",
       "  </thead>\n",
       "  <tbody>\n",
       "    <tr>\n",
       "      <th>904</th>\n",
       "      <td>103448806</td>\n",
       "      <td>Marsh</td>\n",
       "      <td>Dede</td>\n",
       "      <td>NaN</td>\n",
       "      <td>NaN</td>\n",
       "      <td>NaN</td>\n",
       "      <td>NaN</td>\n",
       "      <td>Hinsdale</td>\n",
       "      <td>IL</td>\n",
       "      <td>60521</td>\n",
       "      <td>NaN</td>\n",
       "      <td>US</td>\n",
       "      <td>NaN</td>\n",
       "      <td>demarsh1@yahoo.com</td>\n",
       "    </tr>\n",
       "    <tr>\n",
       "      <th>2024</th>\n",
       "      <td>103448863</td>\n",
       "      <td>Blanchard</td>\n",
       "      <td>Mike &amp; Katie</td>\n",
       "      <td>NaN</td>\n",
       "      <td>NaN</td>\n",
       "      <td>NaN</td>\n",
       "      <td>NaN</td>\n",
       "      <td>Downers Grove</td>\n",
       "      <td>IL</td>\n",
       "      <td>60515</td>\n",
       "      <td>NaN</td>\n",
       "      <td>US</td>\n",
       "      <td>NaN</td>\n",
       "      <td>katieblanchard@comcast.net</td>\n",
       "    </tr>\n",
       "    <tr>\n",
       "      <th>2459</th>\n",
       "      <td>103455094</td>\n",
       "      <td>Leavy</td>\n",
       "      <td>Elyse</td>\n",
       "      <td>NaN</td>\n",
       "      <td>NaN</td>\n",
       "      <td>6.308586e+09</td>\n",
       "      <td>635 Newton Ave</td>\n",
       "      <td>Glen Ellyn</td>\n",
       "      <td>IL</td>\n",
       "      <td>60137</td>\n",
       "      <td>4015.0</td>\n",
       "      <td>US</td>\n",
       "      <td>elysejk@aol.com</td>\n",
       "      <td>elysejk@aol.com</td>\n",
       "    </tr>\n",
       "    <tr>\n",
       "      <th>2723</th>\n",
       "      <td>103455033</td>\n",
       "      <td>Lane</td>\n",
       "      <td>Joan</td>\n",
       "      <td>NaN</td>\n",
       "      <td>NaN</td>\n",
       "      <td>NaN</td>\n",
       "      <td>NaN</td>\n",
       "      <td>Atherton</td>\n",
       "      <td>CA</td>\n",
       "      <td>94027</td>\n",
       "      <td>NaN</td>\n",
       "      <td>US</td>\n",
       "      <td>NaN</td>\n",
       "      <td>joan.lane@stanford.edu</td>\n",
       "    </tr>\n",
       "    <tr>\n",
       "      <th>2775</th>\n",
       "      <td>103446966</td>\n",
       "      <td>Civitanova</td>\n",
       "      <td>Kristin</td>\n",
       "      <td>NaN</td>\n",
       "      <td>NaN</td>\n",
       "      <td>NaN</td>\n",
       "      <td>4932 Montgomery Ave</td>\n",
       "      <td>Downers Grove</td>\n",
       "      <td>IL</td>\n",
       "      <td>60515</td>\n",
       "      <td>3418.0</td>\n",
       "      <td>US</td>\n",
       "      <td>civifamily@comcast.net</td>\n",
       "      <td>civifamily@comcast.net</td>\n",
       "    </tr>\n",
       "  </tbody>\n",
       "</table>\n",
       "</div>"
      ],
      "text/plain": [
       "          VANID        Last         First  Mid  Suf    Home Phone  \\\n",
       "904   103448806       Marsh          Dede  NaN  NaN           NaN   \n",
       "2024  103448863   Blanchard  Mike & Katie  NaN  NaN           NaN   \n",
       "2459  103455094       Leavy         Elyse  NaN  NaN  6.308586e+09   \n",
       "2723  103455033        Lane          Joan  NaN  NaN           NaN   \n",
       "2775  103446966  Civitanova       Kristin  NaN  NaN           NaN   \n",
       "\n",
       "                   Address           City State/Province Zip/Postal    Zip4  \\\n",
       "904                    NaN       Hinsdale             IL      60521     NaN   \n",
       "2024                   NaN  Downers Grove             IL      60515     NaN   \n",
       "2459       635 Newton Ave      Glen Ellyn             IL      60137  4015.0   \n",
       "2723                   NaN       Atherton             CA      94027     NaN   \n",
       "2775  4932 Montgomery Ave   Downers Grove             IL      60515  3418.0   \n",
       "\n",
       "     CountryCode           PersonalEmail              PreferredEmail  \n",
       "904           US                     NaN          demarsh1@yahoo.com  \n",
       "2024          US                     NaN  katieblanchard@comcast.net  \n",
       "2459          US         elysejk@aol.com             elysejk@aol.com  \n",
       "2723          US                     NaN      joan.lane@stanford.edu  \n",
       "2775          US  civifamily@comcast.net      civifamily@comcast.net  "
      ]
     },
     "execution_count": 10,
     "metadata": {},
     "output_type": "execute_result"
    }
   ],
   "source": [
    "df.head()"
   ]
  },
  {
   "cell_type": "code",
   "execution_count": 11,
   "metadata": {},
   "outputs": [],
   "source": [
    "df.to_excel(r'dupes_test.xlsx', index = False)"
   ]
  },
  {
   "cell_type": "code",
   "execution_count": null,
   "metadata": {},
   "outputs": [],
   "source": []
  }
 ],
 "metadata": {
  "kernelspec": {
   "display_name": "Python 3",
   "language": "python",
   "name": "python3"
  },
  "language_info": {
   "codemirror_mode": {
    "name": "ipython",
    "version": 3
   },
   "file_extension": ".py",
   "mimetype": "text/x-python",
   "name": "python",
   "nbconvert_exporter": "python",
   "pygments_lexer": "ipython3",
   "version": "3.7.7"
  }
 },
 "nbformat": 4,
 "nbformat_minor": 4
}
